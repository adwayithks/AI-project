{
  "cells": [
    {
      "cell_type": "code",
      "execution_count": 44,
      "metadata": {
        "colab": {
          "base_uri": "https://localhost:8080/"
        },
        "id": "vVardWA2E6B3",
        "outputId": "8144034e-c063-4f11-f246-72a7112ef4d2"
      },
      "outputs": [
        {
          "output_type": "stream",
          "name": "stderr",
          "text": [
            "[nltk_data] Downloading package twitter_samples to /root/nltk_data...\n",
            "[nltk_data]   Package twitter_samples is already up-to-date!\n",
            "[nltk_data] Downloading package stopwords to /root/nltk_data...\n",
            "[nltk_data]   Package stopwords is already up-to-date!\n"
          ]
        },
        {
          "output_type": "execute_result",
          "data": {
            "text/plain": [
              "True"
            ]
          },
          "metadata": {},
          "execution_count": 44
        }
      ],
      "source": [
        "import nltk\n",
        "from nltk.corpus import twitter_samples\n",
        "\n",
        "# Download NLTK resources\n",
        "nltk.download('twitter_samples')\n",
        "nltk.download('stopwords')\n"
      ]
    },
    {
      "cell_type": "markdown",
      "metadata": {
        "id": "nyUEQekPn_oK"
      },
      "source": [
        "# **Preparing the data**"
      ]
    },
    {
      "cell_type": "code",
      "execution_count": 45,
      "metadata": {
        "id": "BNC9YyXwNROn"
      },
      "outputs": [],
      "source": [
        "from nltk.corpus import twitter_samples\n",
        "positive_tweets = twitter_samples.strings('positive_tweets.json')"
      ]
    },
    {
      "cell_type": "code",
      "execution_count": 36,
      "metadata": {
        "id": "cKgjyMhpe5Gk"
      },
      "outputs": [],
      "source": [
        "negative_tweets = twitter_samples.strings('negative_tweets.json')"
      ]
    },
    {
      "cell_type": "code",
      "execution_count": 37,
      "metadata": {
        "id": "7gNP_UHllhSx"
      },
      "outputs": [],
      "source": [
        "import pandas as pd\n",
        "# creating a dataframe for positive tweets and adding a sentiment column with ones\n",
        "df = pd.DataFrame(positive_tweets, columns=['Tweet'])\n",
        "df['Sentiment'] = 1\n",
        "\n",
        "# creating a dataframe for negative tweets and adding a sentiment column with zeroes\n",
        "temp_df = pd.DataFrame(negative_tweets, columns=['Tweet'])\n",
        "temp_df['Sentiment'] = 0\n",
        "\n",
        "# appending the negative dataframe to positive, index is reset after appending\n",
        "df = pd.concat([df, temp_df], ignore_index=True)\n",
        "\n",
        "# shuffles the rows of the dataframe randomly\n",
        "df = df.sample(frac = 1)\n",
        "\n",
        "# resets the index after shuffling\n",
        "df.reset_index(drop=True, inplace=True)\n",
        "# df"
      ]
    },
    {
      "source": [
        "from matplotlib import pyplot as plt\n",
        "df['Sentiment'].plot(kind='hist', bins=20, title='Sentiment')\n",
        "plt.gca().spines[['top', 'right',]].set_visible(False)"
      ],
      "cell_type": "code",
      "metadata": {
        "colab": {
          "base_uri": "https://localhost:8080/",
          "height": 452
        },
        "id": "6HXZYwHBklZS",
        "outputId": "cc26391f-7319-4a6b-efc3-76ab7aaf5638"
      },
      "execution_count": 38,
      "outputs": [
        {
          "output_type": "display_data",
          "data": {
            "text/plain": [
              "<Figure size 640x480 with 1 Axes>"
            ],
            "image/png": "[encoded data removed]"
          },
          "metadata": {}
        }
      ]
    },
    {
      "cell_type": "markdown",
      "source": [
        "# **Cleaning the data**"
      ],
      "metadata": {
        "id": "sHaEWK4CLQgo"
      }
    },
    {
      "cell_type": "code",
      "source": [
        "# Converting every sentence to lowercase\n",
        "df['Tweet'] = df['Tweet'].apply(lambda x: x.lower())\n",
        "\n",
        "# removing urls\n",
        "import re\n",
        "def remove_urls(Tweet):\n",
        " Tweet = re.sub('http[s]?://(?:[a-zA-Z]|[0–9]|[$-_@.&+#]|[!*\\(\\),]|’\\‘(?:%[0–9a-fA-F][0–9a-fA-F]))+','', Tweet)\n",
        " return Tweet\n",
        "\n",
        "df['Tweet'] = df['Tweet'].apply(lambda x: remove_urls(x))\n",
        "\n",
        "\n",
        "# Removing twitter handles, punctuation, extra spaces, numbers and special characters\n",
        "import string\n",
        "import re\n",
        "\n",
        "def remove_noise(tweet):\n",
        "    tweet = re.sub(r\"(@[A-Za-z0–9_]+)\", \"\", tweet)\n",
        "    tweet = \"\".join([char if char not in string.punctuation else \" \" for char in tweet])\n",
        "    tweet = re.sub(r' +', ' ', tweet)\n",
        "    tweet = re.sub(r\"[0–9]+\", \"\", tweet)\n",
        "    tweet = re.sub(r\"[^A-Za-z0–9_. ]+\", \"\", tweet)\n",
        "    return tweet\n",
        "\n",
        "df['Tweet'] = df['Tweet'].apply(lambda x: remove_noise(x))\n",
        "\n",
        "\n",
        "# removing stopwords\n",
        "import nltk\n",
        "nltk.download('stopwords')\n",
        "nltk.download('punkt')\n",
        "from nltk.corpus import stopwords\n",
        "from nltk.tokenize import word_tokenize\n",
        "\n",
        "  # Loading stop words and removing negative stop words from the list\n",
        "stop_words = stopwords.words('english')\n",
        "words_to_keep = ['don', \"don't\", 'ain', 'aren', \"aren't\", 'couldn', \"couldn't\", 'didn', \"didn't\", 'doesn',\n",
        "                 \"doesn't\", 'hadn', \"hadn't\", 'hasn', \"hasn't\", 'haven', \"haven't\", 'isn', \"isn't\", 'ma',\n",
        "                 'mightn', \"mightn't\", 'mustn', \"mustn't\", 'needn', \"needn't\", 'shan', \"shan't\", 'no',\n",
        "                 'nor', 'not', 'shouldn', \"shouldn't\", 'wasn', \"wasn't\", 'weren', \"weren't\", 'won',\n",
        "                 \"won't\", 'wouldn', \"wouldn't\"]\n",
        "my_stop_words = stop_words\n",
        "for word in words_to_keep:\n",
        "  my_stop_words.remove(word)\n",
        "\n",
        "  # Removing stop words from the Tweet\n",
        "def remove_stop_words(Tweet):\n",
        " tokens = word_tokenize(Tweet)\n",
        " Tweet_with_no_stop_words = [token for token in tokens if not token in my_stop_words]\n",
        " reformed_Tweet =' '.join(Tweet_with_no_stop_words)\n",
        " return reformed_Tweet\n",
        "\n",
        "df['Tweet'] = df['Tweet'].apply(lambda x: remove_stop_words(x))\n",
        "\n",
        "\n",
        "# stemming\n",
        "from nltk.stem.lancaster import LancasterStemmer\n",
        "stemmer = LancasterStemmer()\n",
        "\n",
        "def lemmatise_sentence(Tweet):\n",
        " token_words = word_tokenize(Tweet)\n",
        " lemmatized_Tweet = []\n",
        " for word in token_words:\n",
        "  lemmatized_Tweet.append(stemmer.stem(word))\n",
        "  lemmatized_Tweet.append(\" \")\n",
        " return \"\".join(lemmatized_Tweet)\n",
        "df['Tweet'] = df['Tweet'].apply(lambda x: lemmatise_sentence(x))\n",
        "\n",
        "# df"
      ],
      "metadata": {
        "colab": {
          "base_uri": "https://localhost:8080/"
        },
        "id": "AsLKZyI9bdYD",
        "outputId": "79fd8e9f-f383-4077-c148-7463c0052dc3"
      },
      "execution_count": 39,
      "outputs": [
        {
          "output_type": "stream",
          "name": "stderr",
          "text": [
            "[nltk_data] Downloading package stopwords to /root/nltk_data...\n",
            "[nltk_data]   Package stopwords is already up-to-date!\n",
            "[nltk_data] Downloading package punkt to /root/nltk_data...\n",
            "[nltk_data]   Package punkt is already up-to-date!\n"
          ]
        }
      ]
    },
    {
      "cell_type": "markdown",
      "metadata": {
        "id": "MRUESmprn91E"
      },
      "source": []
    },
    {
      "cell_type": "markdown",
      "source": [
        "# **training and testing**"
      ],
      "metadata": {
        "id": "ZCpi6TZobPGW"
      }
    },
    {
      "cell_type": "code",
      "execution_count": 40,
      "metadata": {
        "id": "kaNmJ-Vce0Sn"
      },
      "outputs": [],
      "source": [
        "import pandas as pd\n",
        "from sklearn.feature_extraction.text import CountVectorizer\n",
        "from sklearn.model_selection import train_test_split\n",
        "from sklearn.linear_model import LogisticRegression\n",
        "# Split dataset into training and testing sets\n",
        "X_train, X_test, y_train, y_test = train_test_split(df['Tweet'], df['Sentiment'], test_size=0.2, random_state=42)\n",
        "# Vectorize tweets\n",
        "vectorizer = CountVectorizer()\n",
        "X_train = vectorizer.fit_transform(X_train)\n",
        "X_test = vectorizer.transform(X_test)"
      ]
    },
    {
      "cell_type": "code",
      "execution_count": 41,
      "metadata": {
        "colab": {
          "base_uri": "https://localhost:8080/"
        },
        "id": "on_NaXlXe7ZH",
        "outputId": "a7b44e3f-d466-434c-a67e-3a34369160a8"
      },
      "outputs": [
        {
          "output_type": "stream",
          "name": "stdout",
          "text": [
            "0.741\n"
          ]
        }
      ],
      "source": [
        "# Logistic Regression Classifier\n",
        "lr = LogisticRegression()\n",
        "lr.fit(X_train, y_train)\n",
        "y_pred = lr.predict(X_test)\n",
        "logistic_accuracy = lr.score(X_test, y_test)\n",
        "print(logistic_accuracy)"
      ]
    },
    {
      "cell_type": "code",
      "source": [
        "from sklearn.metrics import confusion_matrix\n",
        "import seaborn as sns\n",
        "import numpy as np\n",
        "\n",
        "cm = confusion_matrix(y_test,y_pred)\n",
        "\n",
        "accuracy = np.trace(cm) / np.sum(cm)\n",
        "precision = np.diag(cm) / np.sum(cm, axis=0)\n",
        "recall = np.diag(cm) / np.sum(cm, axis=1)\n",
        "f1 = 2 * (precision * recall) / (precision + recall)\n",
        "\n",
        "sns.heatmap(cm, xticklabels=['predicted_survived', 'predicted_dead'], yticklabels=['actual_survived', 'actual_dead']\n",
        "            , annot=True, fmt='d', annot_kws={'fontsize': 10}, cmap=\"plasma\")\n",
        "\n",
        "print('Accuracy: {:.3f}'.format(accuracy))\n",
        "print('Precision: {}'.format(precision))\n",
        "print('Recall: {}'.format(recall))\n",
        "print('F1 Score: {}'.format(f1))\n",
        "print('\\n')"
      ],
      "metadata": {
        "colab": {
          "base_uri": "https://localhost:8080/",
          "height": 534
        },
        "id": "BX1pgatU3TuC",
        "outputId": "29229488-a808-4b65-c7db-341ad125b9b8"
      },
      "execution_count": 42,
      "outputs": [
        {
          "output_type": "stream",
          "name": "stdout",
          "text": [
            "Accuracy: 0.741\n",
            "Precision: [0.72502379 0.75869336]\n",
            "Recall: [0.76892028 0.7135778 ]\n",
            "F1 Score: [0.74632713 0.73544433]\n",
            "\n",
            "\n"
          ]
        },
        {
          "output_type": "display_data",
          "data": {
            "text/plain": [
              "<Figure size 640x480 with 2 Axes>"
            ],
            "image/png": "[encoded data removed]"
          },
          "metadata": {}
        }
      ]
    },
    {
      "cell_type": "code",
      "execution_count": 43,
      "metadata": {
        "colab": {
          "base_uri": "https://localhost:8080/"
        },
        "id": "Zb1B2RmbfX9E",
        "outputId": "a8c4edd6-fbff-4212-cd88-56085b6e2388"
      },
      "outputs": [
        {
          "output_type": "stream",
          "name": "stdout",
          "text": [
            "0.738\n"
          ]
        }
      ],
      "source": [
        "# Naive Bayes Classifier\n",
        "from sklearn.model_selection import train_test_split\n",
        "from sklearn.naive_bayes import MultinomialNB\n",
        "\n",
        "nb = MultinomialNB()\n",
        "nb.fit(X_train, y_train)\n",
        "y_pred = nb.predict(X_test)\n",
        "nb_accuracy = nb.score(X_test,y_test)\n",
        "print(nb_accuracy)"
      ]
    },
    {
      "cell_type": "code",
      "source": [
        "from sklearn.metrics import confusion_matrix\n",
        "import seaborn as sns\n",
        "import numpy as np\n",
        "\n",
        "cm = confusion_matrix(y_test,y_pred)\n",
        "\n",
        "accuracy = np.trace(cm) / np.sum(cm)\n",
        "precision = np.diag(cm) / np.sum(cm, axis=0)\n",
        "recall = np.diag(cm) / np.sum(cm, axis=1)\n",
        "f1 = 2 * (precision * recall) / (precision + recall)\n",
        "\n",
        "sns.heatmap(cm, xticklabels=['predicted_survived', 'predicted_dead'], yticklabels=['actual_survived', 'actual_dead']\n",
        "            , annot=True, fmt='d', annot_kws={'fontsize': 10}, cmap=\"plasma\")\n",
        "\n",
        "print('Accuracy: {:.3f}'.format(accuracy))\n",
        "print('Precision: {}'.format(precision))\n",
        "print('Recall: {}'.format(recall))\n",
        "print('F1 Score: {}'.format(f1))\n",
        "print('\\n')"
      ],
      "metadata": {
        "colab": {
          "base_uri": "https://localhost:8080/",
          "height": 534
        },
        "id": "irRY-bzy4Y8S",
        "outputId": "aa4efa9b-8fba-457c-a464-76a43355f25c"
      },
      "execution_count": 46,
      "outputs": [
        {
          "output_type": "stream",
          "name": "stdout",
          "text": [
            "Accuracy: 0.738\n",
            "Precision: [0.71640408 0.76330076]\n",
            "Recall: [0.78002018 0.69672944]\n",
            "F1 Score: [0.7468599  0.72849741]\n",
            "\n",
            "\n"
          ]
        },
        {
          "output_type": "display_data",
          "data": {
            "text/plain": [
              "<Figure size 640x480 with 2 Axes>"
            ],
            "image/png": "[encoded data removed]"
          },
          "metadata": {}
        }
      ]
    }
  ],
  "metadata": {
    "colab": {
      "provenance": []
    },
    "kernelspec": {
      "display_name": "Python 3",
      "name": "python3"
    },
    "language_info": {
      "name": "python"
    }
  },
  "nbformat": 4,
  "nbformat_minor": 0
}